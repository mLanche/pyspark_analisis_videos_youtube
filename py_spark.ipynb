{
 "cells": [
  {
   "cell_type": "markdown",
   "id": "c74fbfe4",
   "metadata": {},
   "source": [
    "# Vídeos que fueron tendencia en YouTube\n",
    "\n",
    "### Disponible en Kaggle en:\n",
    "https://www.kaggle.com/datasnaek/youtube-new\n",
    "\n",
    "\n",
    "YouTube, el sitio web para compartir videos de fama mundial, mantiene una lista de los mejores videos de tendencias en la plataforma. Según la revista Variety, *Para determinar los videos más populares del año, YouTube utiliza una combinación de factores que incluyen la medición de las interacciones de los usuarios (número de visitas, compartidos, comentarios y me gusta). No son necesariamente los vídeos más vistos del año en general*. Los que se sitúan en la parte más alta de la lista de tendencias de YouTube suelen ser o bien vídeos musicales (como el famoso \"Gagnam Style\"), actuaciones de *celibrities* y / o reality shows, y vídeos virales variados de una persona aleatoria, cámara en mano.\n",
    "\n",
    "Este conjunto de datos es un registro diario de los videos más populares de YouTube. Incluye varios meses de datos en vídeos de tendencias diarias de YouTube. Se incluyen datos para las regiones de EEUU, Reino Unido, Dinamarca, Canadá y Francia con hasta 200 videos de tendencias listados por día. Aquí solo usaremos los de EEUU, Canadá y Reino Unido. Los datos de cada país están en un archivo separado. Las variables incluyen el título del video, título del canal, tiempo de publicación, etiquetas, vistas, me gusta y no me gusta, descripción y recuento de comentarios. Se recopiló utilizando la API de YouTube."
   ]
  },
  {
   "cell_type": "markdown",
   "id": "63957c8b",
   "metadata": {},
   "source": [
    "### Variables y significado\n",
    "\n",
    "Las variables utilizadas para describir cada vídeo son:\n",
    "\n",
    "* video_id (string) ID único. Se ha asignado un video en la plataforma de YouTube. \n",
    "* trending_date (string) La fecha en que el video era tendencia \n",
    "* title (string) Título del vídeo\n",
    "* channel_title (string) Título del canal de publicación en la categoría de plataforma\n",
    "* category_id (string) El tipo de categoría del vídeo\n",
    "* publish_time (string) La fecha de publicación del vídeo \n",
    "* tags (string) Etiquetas asociadas al vídeo, separadas por |\n",
    "* views (entero) Número total de vistas en el vídeo.\n",
    "* likes (entero) Número de Me gusta en el vídeo\n",
    "* dislikes (entero) Número de No me gusta en el vídeo\n",
    "* comment_count (entero) Un recuento total de comentarios en el video \n",
    "* comments_disabled (booleano) Si los comentarios estaban desactivados (true) o activados (false) en el video \n",
    "* ratings_disabled (booleano) Si la opción de dar me gusta o no al video está deshabilitada (true), en cuyo caso el número de  Me gusta y de No me gusta será 0. \n",
    "* video_error_or_removed (booleano) Si el video tiene algún error o se eliminó después de cargar el país\n",
    "* description (string): Descripción textual"
   ]
  },
  {
   "cell_type": "code",
   "execution_count": 1,
   "id": "3adfb1d1",
   "metadata": {},
   "outputs": [],
   "source": [
    "import pyspark\n",
    "from pyspark.sql import SparkSession\n",
    "spark = SparkSession.builder.master(\"local[1]\") \\\n",
    "                    .appName('SparkByExamples.com') \\\n",
    "                    .getOrCreate()\n",
    "spark.conf.set('spark.sql.repl.eagerEval.enabled', True)\n",
    "spark.conf.set('spark.sql.repl.eagerEval.maxNumRows', 5)"
   ]
  },
  {
   "cell_type": "code",
   "execution_count": 2,
   "id": "04d7b014",
   "metadata": {},
   "outputs": [
    {
     "data": {
      "text/html": [
       "\n",
       "            <div>\n",
       "                <p><b>SparkSession - in-memory</b></p>\n",
       "                \n",
       "        <div>\n",
       "            <p><b>SparkContext</b></p>\n",
       "\n",
       "            <p><a href=\"http://DESKTOP-RO4JJP7.technicolor.net:4040\">Spark UI</a></p>\n",
       "\n",
       "            <dl>\n",
       "              <dt>Version</dt>\n",
       "                <dd><code>v3.3.2</code></dd>\n",
       "              <dt>Master</dt>\n",
       "                <dd><code>local[1]</code></dd>\n",
       "              <dt>AppName</dt>\n",
       "                <dd><code>SparkByExamples.com</code></dd>\n",
       "            </dl>\n",
       "        </div>\n",
       "        \n",
       "            </div>\n",
       "        "
      ],
      "text/plain": [
       "<pyspark.sql.session.SparkSession at 0x1f8289d6ee0>"
      ]
     },
     "execution_count": 2,
     "metadata": {},
     "output_type": "execute_result"
    }
   ],
   "source": [
    "spark"
   ]
  },
  {
   "cell_type": "code",
   "execution_count": 3,
   "id": "c6530415",
   "metadata": {},
   "outputs": [],
   "source": [
    "import pyspark.sql.functions as F\n",
    "from pyspark.sql.types import StringType, IntegerType, FloatType, DoubleType, BooleanType, DateType, TimestampType\n"
   ]
  },
  {
   "cell_type": "markdown",
   "id": "9807d662",
   "metadata": {},
   "source": [
    "### 1. Leer los datos con Spark y unificar en un solo dataframe.\n",
    "Se leen los datos sin inferir su tipo, teniendo en cuenta la coma que separa las columnas, descartamos las filas que no tengan el formato correcto. \n",
    "A continuación  usamos transformaciones para crear una nueva columna e identificar cada dataset por su país y eliminamos la columna descripción. Finalmente unimos los datasets en 1 solo dataframe."
   ]
  },
  {
   "cell_type": "code",
   "execution_count": 4,
   "id": "d96f7749",
   "metadata": {},
   "outputs": [],
   "source": [
    "# Aclaración: por defecto inferSchema es false, pero lo pongo explícitamente para que se vea.\n",
    "# el tipo de dato de \"pais\" es por defecto StringType\n",
    "\n",
    "USvideosDF = spark.read \\\n",
    "    .option(\"header\", \"true\") \\\n",
    "    .option(\"inferSchema\", \"false\") \\\n",
    "    .option(\"quote\", \"\\\"\") \\\n",
    "    .option(\"escape\", \"\\\"\") \\\n",
    "    .option(\"mode\", \"DROPMALFORMED\") \\\n",
    "    .csv(\"./data/youtube_USvideos.csv\") \\\n",
    "    .withColumn(\"pais\", F.lit(\"EEUU\")) \\\n",
    "    .drop(\"description\")\n",
    "\n",
    "CAvideosDF = spark.read \\\n",
    "    .option(\"header\", \"true\") \\\n",
    "    .option(\"inferSchema\", \"false\") \\\n",
    "    .option(\"quote\", \"\\\"\") \\\n",
    "    .option(\"escape\", \"\\\"\") \\\n",
    "    .option(\"mode\", \"DROPMALFORMED\") \\\n",
    "    .csv(\"./data/youtube_CAvideos.csv\") \\\n",
    "    .withColumn(\"pais\", F.lit(\"CA\")) \\\n",
    "    .drop(\"description\")\n",
    "\n",
    "GBvideosDF = spark.read \\\n",
    "    .option(\"header\", \"true\") \\\n",
    "    .option(\"inferSchema\", \"false\") \\\n",
    "    .option(\"quote\", \"\\\"\") \\\n",
    "    .option(\"escape\", \"\\\"\") \\\n",
    "    .option(\"mode\", \"DROPMALFORMED\") \\\n",
    "    .csv(\"./data/youtube_GBvideos.csv\") \\\n",
    "    .withColumn(\"pais\", F.lit(\"GB\")) \\\n",
    "    .drop(\"description\")                  \n",
    "\n",
    "#Se generan dudas al usar union o unionAll, pero entiendo que no hay problema con union ya que los dfs están diferenciados por país\n",
    "\n",
    "videosRawDF = USvideosDF.union(CAvideosDF).union(GBvideosDF)\n"
   ]
  },
  {
   "cell_type": "code",
   "execution_count": 5,
   "id": "1b6b9660",
   "metadata": {},
   "outputs": [
    {
     "name": "stdout",
     "output_type": "stream",
     "text": [
      "De Estados Unidos tenemos 48137 registros\n",
      "De Canadá tenemos 45560 registros\n",
      "De Gran Bretaña tenemos 43295 registros\n",
      "En total contamos con 136992 registros\n"
     ]
    },
    {
     "data": {
      "text/html": [
       "<table border='1'>\n",
       "<tr><th>video_id</th><th>trending_date</th><th>title</th><th>channel_title</th><th>category_id</th><th>publish_time</th><th>tags</th><th>views</th><th>likes</th><th>dislikes</th><th>comment_count</th><th>thumbnail_link</th><th>comments_disabled</th><th>ratings_disabled</th><th>video_error_or_removed</th><th>pais</th></tr>\n",
       "<tr><td>2kyS6SvSYSE</td><td>17.14.11</td><td>WE WANT TO TALK A...</td><td>CaseyNeistat</td><td>22</td><td>2017-11-13T17:13:...</td><td>SHANtell martin</td><td>748374</td><td>57527</td><td>2966</td><td>15954</td><td>https://i.ytimg.c...</td><td>False</td><td>False</td><td>False</td><td>EEUU</td></tr>\n",
       "<tr><td>1ZAPwfrtAFY</td><td>17.14.11</td><td>The Trump Preside...</td><td>LastWeekTonight</td><td>24</td><td>2017-11-13T07:30:...</td><td>&quot;last week tonigh...</td><td>2418783</td><td>97185</td><td>6146</td><td>12703</td><td>https://i.ytimg.c...</td><td>False</td><td>False</td><td>False</td><td>EEUU</td></tr>\n",
       "<tr><td>5qpjK5DgCt4</td><td>17.14.11</td><td>Racist Superman |...</td><td>Rudy Mancuso</td><td>23</td><td>2017-11-12T19:05:...</td><td>&quot;racist superman&quot;...</td><td>3191434</td><td>146033</td><td>5339</td><td>8181</td><td>https://i.ytimg.c...</td><td>False</td><td>False</td><td>False</td><td>EEUU</td></tr>\n",
       "<tr><td>puqaWrEC7tY</td><td>17.14.11</td><td>Nickelback Lyrics...</td><td>Good Mythical Mor...</td><td>24</td><td>2017-11-13T11:00:...</td><td>&quot;rhett and link&quot;|...</td><td>343168</td><td>10172</td><td>666</td><td>2146</td><td>https://i.ytimg.c...</td><td>False</td><td>False</td><td>False</td><td>EEUU</td></tr>\n",
       "<tr><td>d380meD0W0M</td><td>17.14.11</td><td>I Dare You: GOING...</td><td>nigahiga</td><td>24</td><td>2017-11-12T18:01:...</td><td>&quot;ryan&quot;|&quot;higa&quot;|&quot;hi...</td><td>2095731</td><td>132235</td><td>1989</td><td>17518</td><td>https://i.ytimg.c...</td><td>False</td><td>False</td><td>False</td><td>EEUU</td></tr>\n",
       "</table>\n",
       "only showing top 5 rows\n"
      ],
      "text/plain": [
       "+-----------+-------------+--------------------+--------------------+-----------+--------------------+--------------------+-------+------+--------+-------------+--------------------+-----------------+----------------+----------------------+----+\n",
       "|   video_id|trending_date|               title|       channel_title|category_id|        publish_time|                tags|  views| likes|dislikes|comment_count|      thumbnail_link|comments_disabled|ratings_disabled|video_error_or_removed|pais|\n",
       "+-----------+-------------+--------------------+--------------------+-----------+--------------------+--------------------+-------+------+--------+-------------+--------------------+-----------------+----------------+----------------------+----+\n",
       "|2kyS6SvSYSE|     17.14.11|WE WANT TO TALK A...|        CaseyNeistat|         22|2017-11-13T17:13:...|     SHANtell martin| 748374| 57527|    2966|        15954|https://i.ytimg.c...|            False|           False|                 False|EEUU|\n",
       "|1ZAPwfrtAFY|     17.14.11|The Trump Preside...|     LastWeekTonight|         24|2017-11-13T07:30:...|\"last week tonigh...|2418783| 97185|    6146|        12703|https://i.ytimg.c...|            False|           False|                 False|EEUU|\n",
       "|5qpjK5DgCt4|     17.14.11|Racist Superman |...|        Rudy Mancuso|         23|2017-11-12T19:05:...|\"racist superman\"...|3191434|146033|    5339|         8181|https://i.ytimg.c...|            False|           False|                 False|EEUU|\n",
       "|puqaWrEC7tY|     17.14.11|Nickelback Lyrics...|Good Mythical Mor...|         24|2017-11-13T11:00:...|\"rhett and link\"|...| 343168| 10172|     666|         2146|https://i.ytimg.c...|            False|           False|                 False|EEUU|\n",
       "|d380meD0W0M|     17.14.11|I Dare You: GOING...|            nigahiga|         24|2017-11-12T18:01:...|\"ryan\"|\"higa\"|\"hi...|2095731|132235|    1989|        17518|https://i.ytimg.c...|            False|           False|                 False|EEUU|\n",
       "+-----------+-------------+--------------------+--------------------+-----------+--------------------+--------------------+-------+------+--------+-------------+--------------------+-----------------+----------------+----------------------+----+\n",
       "only showing top 5 rows"
      ]
     },
     "execution_count": 5,
     "metadata": {},
     "output_type": "execute_result"
    }
   ],
   "source": [
    "# Comprobaciones \n",
    "print(f\"De Estados Unidos tenemos {USvideosDF.count()} registros\")\n",
    "print(f\"De Canadá tenemos {CAvideosDF.count()} registros\")\n",
    "print(f\"De Gran Bretaña tenemos {GBvideosDF.count()} registros\")\n",
    "print(f\"En total contamos con {videosRawDF.count()} registros\")\n",
    "\n",
    "videosRawDF"
   ]
  },
  {
   "cell_type": "code",
   "execution_count": 6,
   "id": "d95f834f",
   "metadata": {},
   "outputs": [
    {
     "name": "stdout",
     "output_type": "stream",
     "text": [
      "root\n",
      " |-- video_id: string (nullable = true)\n",
      " |-- trending_date: string (nullable = true)\n",
      " |-- title: string (nullable = true)\n",
      " |-- channel_title: string (nullable = true)\n",
      " |-- category_id: string (nullable = true)\n",
      " |-- publish_time: string (nullable = true)\n",
      " |-- tags: string (nullable = true)\n",
      " |-- views: string (nullable = true)\n",
      " |-- likes: string (nullable = true)\n",
      " |-- dislikes: string (nullable = true)\n",
      " |-- comment_count: string (nullable = true)\n",
      " |-- thumbnail_link: string (nullable = true)\n",
      " |-- comments_disabled: string (nullable = true)\n",
      " |-- ratings_disabled: string (nullable = true)\n",
      " |-- video_error_or_removed: string (nullable = true)\n",
      " |-- pais: string (nullable = false)\n",
      "\n"
     ]
    }
   ],
   "source": [
    "videosRawDF.printSchema()"
   ]
  },
  {
   "cell_type": "markdown",
   "id": "311d80d2",
   "metadata": {},
   "source": [
    "### 2. Castear las columnas a su tipo correcto y cachear\n",
    "Utilizo un withColumn y seteo el tipo de dato correcto.\n",
    "Defino el formato de la fecha que necesito antes de castear a TimStamp\n",
    "Elimino nulos.\n",
    "Finalmente cacheo porque es el dataframe con el que voy a trabajar reiteradamente."
   ]
  },
  {
   "cell_type": "code",
   "execution_count": 7,
   "id": "6ac7d773",
   "metadata": {},
   "outputs": [],
   "source": [
    "videosDF = videosRawDF.withColumn(\"trending_date\", F.to_date(\"trending_date\", \"yy.dd.MM\")) \\\n",
    "                      .withColumn(\"publish_time\", F.from_unixtime(F.unix_timestamp('publish_time', \"yyyy-MM-dd'T'HH:mm:ss.SSS'Z'\")).cast(\"timestamp\")) \\\n",
    "                      .withColumn(\"likes\", F.col(\"likes\").cast(\"integer\")) \\\n",
    "                      .withColumn(\"dislikes\", F.col(\"dislikes\").cast(\"integer\")) \\\n",
    "                      .withColumn(\"comment_count\", F.col(\"comment_count\").cast(\"integer\")) \\\n",
    "                      .withColumn(\"comments_disabled\", F.col(\"comments_disabled\").cast(\"boolean\")) \\\n",
    "                      .na.drop() \\\n",
    "                      .cache()  \n",
    "\n"
   ]
  },
  {
   "cell_type": "code",
   "execution_count": 8,
   "id": "5cae018b",
   "metadata": {},
   "outputs": [
    {
     "data": {
      "text/html": [
       "<table border='1'>\n",
       "<tr><th>video_id</th><th>trending_date</th><th>title</th><th>channel_title</th><th>category_id</th><th>publish_time</th><th>tags</th><th>views</th><th>likes</th><th>dislikes</th><th>comment_count</th><th>thumbnail_link</th><th>comments_disabled</th><th>ratings_disabled</th><th>video_error_or_removed</th><th>pais</th></tr>\n",
       "<tr><td>2kyS6SvSYSE</td><td>2017-11-14</td><td>WE WANT TO TALK A...</td><td>CaseyNeistat</td><td>22</td><td>2017-11-13 17:13:01</td><td>SHANtell martin</td><td>748374</td><td>57527</td><td>2966</td><td>15954</td><td>https://i.ytimg.c...</td><td>false</td><td>False</td><td>False</td><td>EEUU</td></tr>\n",
       "<tr><td>1ZAPwfrtAFY</td><td>2017-11-14</td><td>The Trump Preside...</td><td>LastWeekTonight</td><td>24</td><td>2017-11-13 07:30:00</td><td>&quot;last week tonigh...</td><td>2418783</td><td>97185</td><td>6146</td><td>12703</td><td>https://i.ytimg.c...</td><td>false</td><td>False</td><td>False</td><td>EEUU</td></tr>\n",
       "<tr><td>5qpjK5DgCt4</td><td>2017-11-14</td><td>Racist Superman |...</td><td>Rudy Mancuso</td><td>23</td><td>2017-11-12 19:05:24</td><td>&quot;racist superman&quot;...</td><td>3191434</td><td>146033</td><td>5339</td><td>8181</td><td>https://i.ytimg.c...</td><td>false</td><td>False</td><td>False</td><td>EEUU</td></tr>\n",
       "<tr><td>puqaWrEC7tY</td><td>2017-11-14</td><td>Nickelback Lyrics...</td><td>Good Mythical Mor...</td><td>24</td><td>2017-11-13 11:00:04</td><td>&quot;rhett and link&quot;|...</td><td>343168</td><td>10172</td><td>666</td><td>2146</td><td>https://i.ytimg.c...</td><td>false</td><td>False</td><td>False</td><td>EEUU</td></tr>\n",
       "<tr><td>d380meD0W0M</td><td>2017-11-14</td><td>I Dare You: GOING...</td><td>nigahiga</td><td>24</td><td>2017-11-12 18:01:41</td><td>&quot;ryan&quot;|&quot;higa&quot;|&quot;hi...</td><td>2095731</td><td>132235</td><td>1989</td><td>17518</td><td>https://i.ytimg.c...</td><td>false</td><td>False</td><td>False</td><td>EEUU</td></tr>\n",
       "</table>\n",
       "only showing top 5 rows\n"
      ],
      "text/plain": [
       "+-----------+-------------+--------------------+--------------------+-----------+-------------------+--------------------+-------+------+--------+-------------+--------------------+-----------------+----------------+----------------------+----+\n",
       "|   video_id|trending_date|               title|       channel_title|category_id|       publish_time|                tags|  views| likes|dislikes|comment_count|      thumbnail_link|comments_disabled|ratings_disabled|video_error_or_removed|pais|\n",
       "+-----------+-------------+--------------------+--------------------+-----------+-------------------+--------------------+-------+------+--------+-------------+--------------------+-----------------+----------------+----------------------+----+\n",
       "|2kyS6SvSYSE|   2017-11-14|WE WANT TO TALK A...|        CaseyNeistat|         22|2017-11-13 17:13:01|     SHANtell martin| 748374| 57527|    2966|        15954|https://i.ytimg.c...|            false|           False|                 False|EEUU|\n",
       "|1ZAPwfrtAFY|   2017-11-14|The Trump Preside...|     LastWeekTonight|         24|2017-11-13 07:30:00|\"last week tonigh...|2418783| 97185|    6146|        12703|https://i.ytimg.c...|            false|           False|                 False|EEUU|\n",
       "|5qpjK5DgCt4|   2017-11-14|Racist Superman |...|        Rudy Mancuso|         23|2017-11-12 19:05:24|\"racist superman\"...|3191434|146033|    5339|         8181|https://i.ytimg.c...|            false|           False|                 False|EEUU|\n",
       "|puqaWrEC7tY|   2017-11-14|Nickelback Lyrics...|Good Mythical Mor...|         24|2017-11-13 11:00:04|\"rhett and link\"|...| 343168| 10172|     666|         2146|https://i.ytimg.c...|            false|           False|                 False|EEUU|\n",
       "|d380meD0W0M|   2017-11-14|I Dare You: GOING...|            nigahiga|         24|2017-11-12 18:01:41|\"ryan\"|\"higa\"|\"hi...|2095731|132235|    1989|        17518|https://i.ytimg.c...|            false|           False|                 False|EEUU|\n",
       "+-----------+-------------+--------------------+--------------------+-----------+-------------------+--------------------+-------+------+--------+-------------+--------------------+-----------------+----------------+----------------------+----+\n",
       "only showing top 5 rows"
      ]
     },
     "execution_count": 8,
     "metadata": {},
     "output_type": "execute_result"
    }
   ],
   "source": [
    "videosDF"
   ]
  },
  {
   "cell_type": "code",
   "execution_count": 9,
   "id": "4fa9cf72",
   "metadata": {},
   "outputs": [
    {
     "name": "stdout",
     "output_type": "stream",
     "text": [
      "root\n",
      " |-- video_id: string (nullable = true)\n",
      " |-- trending_date: date (nullable = true)\n",
      " |-- title: string (nullable = true)\n",
      " |-- channel_title: string (nullable = true)\n",
      " |-- category_id: string (nullable = true)\n",
      " |-- publish_time: timestamp (nullable = true)\n",
      " |-- tags: string (nullable = true)\n",
      " |-- views: string (nullable = true)\n",
      " |-- likes: integer (nullable = true)\n",
      " |-- dislikes: integer (nullable = true)\n",
      " |-- comment_count: integer (nullable = true)\n",
      " |-- thumbnail_link: string (nullable = true)\n",
      " |-- comments_disabled: boolean (nullable = true)\n",
      " |-- ratings_disabled: string (nullable = true)\n",
      " |-- video_error_or_removed: string (nullable = true)\n",
      " |-- pais: string (nullable = false)\n",
      "\n"
     ]
    }
   ],
   "source": [
    "# Comprobamos el Schema\n",
    "videosDF.printSchema()"
   ]
  },
  {
   "cell_type": "markdown",
   "id": "c0a5d6de",
   "metadata": {},
   "source": [
    "### 3. Reemplazo los id de la categoría con el nombre de la categoría. \n",
    "Una vez reemplazados los ids por el nombre de las categorías, procedo a crear nuevas columnas:\n",
    "- dias_hasta_viral, es en número de días que pasaron desde la publicación hasta que se volvió viral el vídeo\n",
    "- diasemana, utilizo una función para saber que día se volvió viral \n",
    "\n",
    "Finalmente modifico la columna tags, eliminando comillas y separando las etiquetas por el pipe.\n"
   ]
  },
  {
   "cell_type": "code",
   "execution_count": 10,
   "id": "888c99f6",
   "metadata": {},
   "outputs": [],
   "source": [
    "diccionario = {\n",
    "   \"1\": \"Film & Animation\",\n",
    "   \"2\": \"Autos & Vehicles\",\n",
    "   \"10\": \"Music\",\n",
    "   \"15\": \"Pets & Animals\",\n",
    "   \"17\": \"Sports\",\n",
    "   \"18\": \"Short Movies\",\n",
    "   \"19\": \"Travel & Events\",\n",
    "   \"20\": \"Gaming\",\n",
    "   \"21\": \"Videoblogging\",\n",
    "   \"22\": \"People & Blogs\",\n",
    "   \"23\": \"Comedy\",\n",
    "   \"24\": \"Entertainment\",\n",
    "   \"25\": \"News & Politics\",\n",
    "   \"26\": \"Howto & Style\",\n",
    "   \"27\": \"Education\",\n",
    "   \"28\": \"Science & Technology\",\n",
    "   \"29\": \"Nonprofits & Activism\",\n",
    "   \"30\": \"Movies\",\n",
    "   \"31\": \"Anime/Animation\",\n",
    "   \"32\": \"Action/Adventure\",\n",
    "   \"33\": \"Classics\",\n",
    "   \"34\": \"Comedy\",\n",
    "   \"35\": \"Documentary\",\n",
    "   \"36\": \"Drama\",\n",
    "   \"37\": \"Family\",\n",
    "   \"38\": \"Foreign\",\n",
    "   \"39\": \"Horror\",\n",
    "   \"40\": \"Sci-Fi/Fantasy\",\n",
    "   \"41\": \"Thriller\",\n",
    "   \"42\": \"Shorts\",\n",
    "   \"43\": \"Shows\",\n",
    "   \"44\": \"Trailers\"\n",
    "}\n",
    "\n",
    "\n",
    "videosExtraInfoDF = videosDF.replace(to_replace=diccionario, subset=['category_id'])\\\n",
    "                                      .withColumn(\"dias_hasta_viral\", F.datediff(F.col(\"trending_date\"), F.col(\"publish_time\"))) \\\n",
    "                                      .withColumn(\"diasemana\", F.dayofweek(F.col(\"publish_time\"))) \\\n",
    "                                      .withColumn(\"tags\", F.regexp_replace(F.lower(F.col(\"tags\")),  \"\\\"\", \"\"))\\\n",
    "                                      .withColumn(\"tags\", F.split(F.col(\"tags\"), \"\\|\"))"
   ]
  },
  {
   "cell_type": "code",
   "execution_count": 11,
   "id": "ff9ffdcc",
   "metadata": {},
   "outputs": [
    {
     "data": {
      "text/html": [
       "<table border='1'>\n",
       "<tr><th>video_id</th><th>trending_date</th><th>title</th><th>channel_title</th><th>category_id</th><th>publish_time</th><th>tags</th><th>views</th><th>likes</th><th>dislikes</th><th>comment_count</th><th>thumbnail_link</th><th>comments_disabled</th><th>ratings_disabled</th><th>video_error_or_removed</th><th>pais</th><th>dias_hasta_viral</th><th>diasemana</th></tr>\n",
       "<tr><td>2kyS6SvSYSE</td><td>2017-11-14</td><td>WE WANT TO TALK A...</td><td>CaseyNeistat</td><td>People &amp; Blogs</td><td>2017-11-13 17:13:01</td><td>[shantell martin]</td><td>748374</td><td>57527</td><td>2966</td><td>15954</td><td>https://i.ytimg.c...</td><td>false</td><td>False</td><td>False</td><td>EEUU</td><td>1</td><td>2</td></tr>\n",
       "<tr><td>1ZAPwfrtAFY</td><td>2017-11-14</td><td>The Trump Preside...</td><td>LastWeekTonight</td><td>Entertainment</td><td>2017-11-13 07:30:00</td><td>[last week tonigh...</td><td>2418783</td><td>97185</td><td>6146</td><td>12703</td><td>https://i.ytimg.c...</td><td>false</td><td>False</td><td>False</td><td>EEUU</td><td>1</td><td>2</td></tr>\n",
       "<tr><td>5qpjK5DgCt4</td><td>2017-11-14</td><td>Racist Superman |...</td><td>Rudy Mancuso</td><td>Comedy</td><td>2017-11-12 19:05:24</td><td>[racist superman,...</td><td>3191434</td><td>146033</td><td>5339</td><td>8181</td><td>https://i.ytimg.c...</td><td>false</td><td>False</td><td>False</td><td>EEUU</td><td>2</td><td>1</td></tr>\n",
       "<tr><td>puqaWrEC7tY</td><td>2017-11-14</td><td>Nickelback Lyrics...</td><td>Good Mythical Mor...</td><td>Entertainment</td><td>2017-11-13 11:00:04</td><td>[rhett and link, ...</td><td>343168</td><td>10172</td><td>666</td><td>2146</td><td>https://i.ytimg.c...</td><td>false</td><td>False</td><td>False</td><td>EEUU</td><td>1</td><td>2</td></tr>\n",
       "<tr><td>d380meD0W0M</td><td>2017-11-14</td><td>I Dare You: GOING...</td><td>nigahiga</td><td>Entertainment</td><td>2017-11-12 18:01:41</td><td>[ryan, higa, higa...</td><td>2095731</td><td>132235</td><td>1989</td><td>17518</td><td>https://i.ytimg.c...</td><td>false</td><td>False</td><td>False</td><td>EEUU</td><td>2</td><td>1</td></tr>\n",
       "</table>\n",
       "only showing top 5 rows\n"
      ],
      "text/plain": [
       "+-----------+-------------+--------------------+--------------------+--------------+-------------------+--------------------+-------+------+--------+-------------+--------------------+-----------------+----------------+----------------------+----+----------------+---------+\n",
       "|   video_id|trending_date|               title|       channel_title|   category_id|       publish_time|                tags|  views| likes|dislikes|comment_count|      thumbnail_link|comments_disabled|ratings_disabled|video_error_or_removed|pais|dias_hasta_viral|diasemana|\n",
       "+-----------+-------------+--------------------+--------------------+--------------+-------------------+--------------------+-------+------+--------+-------------+--------------------+-----------------+----------------+----------------------+----+----------------+---------+\n",
       "|2kyS6SvSYSE|   2017-11-14|WE WANT TO TALK A...|        CaseyNeistat|People & Blogs|2017-11-13 17:13:01|   [shantell martin]| 748374| 57527|    2966|        15954|https://i.ytimg.c...|            false|           False|                 False|EEUU|               1|        2|\n",
       "|1ZAPwfrtAFY|   2017-11-14|The Trump Preside...|     LastWeekTonight| Entertainment|2017-11-13 07:30:00|[last week tonigh...|2418783| 97185|    6146|        12703|https://i.ytimg.c...|            false|           False|                 False|EEUU|               1|        2|\n",
       "|5qpjK5DgCt4|   2017-11-14|Racist Superman |...|        Rudy Mancuso|        Comedy|2017-11-12 19:05:24|[racist superman,...|3191434|146033|    5339|         8181|https://i.ytimg.c...|            false|           False|                 False|EEUU|               2|        1|\n",
       "|puqaWrEC7tY|   2017-11-14|Nickelback Lyrics...|Good Mythical Mor...| Entertainment|2017-11-13 11:00:04|[rhett and link, ...| 343168| 10172|     666|         2146|https://i.ytimg.c...|            false|           False|                 False|EEUU|               1|        2|\n",
       "|d380meD0W0M|   2017-11-14|I Dare You: GOING...|            nigahiga| Entertainment|2017-11-12 18:01:41|[ryan, higa, higa...|2095731|132235|    1989|        17518|https://i.ytimg.c...|            false|           False|                 False|EEUU|               2|        1|\n",
       "+-----------+-------------+--------------------+--------------------+--------------+-------------------+--------------------+-------+------+--------+-------------+--------------------+-----------------+----------------+----------------------+----+----------------+---------+\n",
       "only showing top 5 rows"
      ]
     },
     "execution_count": 11,
     "metadata": {},
     "output_type": "execute_result"
    }
   ],
   "source": [
    "videosExtraInfoDF"
   ]
  },
  {
   "cell_type": "markdown",
   "id": "82714a81",
   "metadata": {},
   "source": [
    "### 4. Cálculo del número de días que ha sido viral cada vídeo en cada uno de los 3 países.\n",
    "Primero creo una ventana que me permitirá agrupar datos por el país y el id del vídeo. A continuación creo 2 columnas para la fecha inicial y la fecha final en el que el vídeo fue viral teniendo en cuenta la agrupación antes dicha, con estas columnas y usando la función de datediff creo una nueva columna en la cual obtengo el número de días que el vídeo ha sido viral.\n",
    "Elimino las columnas que no necesito, elimino duplicados que coinciden en id y país, Finalmente cacheo.\n"
   ]
  },
  {
   "cell_type": "code",
   "execution_count": 12,
   "id": "faec9f56",
   "metadata": {},
   "outputs": [],
   "source": [
    "from pyspark.sql import Window \n",
    "\n",
    "ventanaVideoIdPais = Window.partitionBy(\"video_id\", \"pais\")\n",
    "\n",
    "\n",
    "videosDiasViralDF = videosExtraInfoDF.withColumn(\"min\", F.min(F.col(\"trending_date\")).over(ventanaVideoIdPais))\\\n",
    "                                     .withColumn(\"max\", F.max(F.col(\"trending_date\")).over(ventanaVideoIdPais))\\\n",
    "                                     .withColumn(\"dias_viral_pais\", F.datediff(F.col(\"max\"), F.col(\"min\")))\\\n",
    "                                     .drop(\"min\", \"max\")\\\n",
    "                                     .dropDuplicates([\"video_id\", \"pais\"])\\\n",
    "                                     .cache()\n"
   ]
  },
  {
   "cell_type": "markdown",
   "id": "7ae85277",
   "metadata": {},
   "source": [
    "### 5. Un nuevo dataframe para observar las categorías virales dependiendo de los países y otro dependiendo de los días.\n",
    "\n",
    "Partiendo del dataset anterior, hago una agrupación por la categoría que será como mi índice, pivoto por país para tener cada país en una columna y saco la media de los días que ha sido viral esa categoría en los diferentes países.\n",
    "\n",
    "Para el DF con los días, agrupo también por categoría, pivoto por día de semana y calculo el número de vídeos que se hacen virales según cada día, finalmente específico la cebecera que quiero que tenga este dataframe, que será la lista con los días de la semana y la categoría"
   ]
  },
  {
   "cell_type": "code",
   "execution_count": 13,
   "id": "7df5ce04",
   "metadata": {},
   "outputs": [],
   "source": [
    "diasViralCategoriaPaisDF = videosDiasViralDF.groupBy(\"category_id\")\\\n",
    "                                            .pivot(\"pais\")\\\n",
    "                                            .avg(\"dias_viral_pais\")\n",
    "\n",
    "dias = [\"category_id\",\"Lunes\", \"Martes\", \"Miércoles\", \"Jueves\", \"Viernes\", \"Sábado\", \"Domingo\"]\n",
    "\n",
    "videosPorDiasemanaDF = videosDiasViralDF.groupBy(\"category_id\")\\\n",
    "                                      .pivot(\"diasemana\")\\\n",
    "                                      .agg(F.countDistinct(\"video_id\"))\\\n",
    "                                      .toDF(*dias)"
   ]
  },
  {
   "cell_type": "code",
   "execution_count": 14,
   "id": "2ad6d689",
   "metadata": {},
   "outputs": [
    {
     "data": {
      "text/html": [
       "<table border='1'>\n",
       "<tr><th>video_id</th><th>trending_date</th><th>title</th><th>channel_title</th><th>category_id</th><th>publish_time</th><th>tags</th><th>views</th><th>likes</th><th>dislikes</th><th>comment_count</th><th>thumbnail_link</th><th>comments_disabled</th><th>ratings_disabled</th><th>video_error_or_removed</th><th>pais</th><th>dias_hasta_viral</th><th>diasemana</th><th>dias_viral_pais</th></tr>\n",
       "<tr><td>-EjcrM2wFak</td><td>2018-05-14</td><td>Comment Awards v132</td><td>Comment Awards</td><td>Comedy</td><td>2018-05-13 22:17:12</td><td>[comment, awards,...</td><td>157703</td><td>7731</td><td>153</td><td>1697</td><td>https://i.ytimg.c...</td><td>false</td><td>False</td><td>False</td><td>CA</td><td>1</td><td>1</td><td>1</td></tr>\n",
       "<tr><td>-Kvh7mHD9aY</td><td>2018-06-12</td><td>REDDITS SCARIEST ...</td><td>Mini Ladd</td><td>Gaming</td><td>2018-06-11 00:34:16</td><td>[mini ladd, minil...</td><td>468306</td><td>26899</td><td>223</td><td>4346</td><td>https://i.ytimg.c...</td><td>false</td><td>False</td><td>False</td><td>CA</td><td>1</td><td>2</td><td>0</td></tr>\n",
       "<tr><td>-Ru31e1qOUI</td><td>2018-06-12</td><td>Kapuso Mo, Jessic...</td><td>GMA Public Affairs</td><td>Entertainment</td><td>2018-06-11 08:12:39</td><td>[gma, gma network...</td><td>613392</td><td>4520</td><td>946</td><td>2324</td><td>https://i.ytimg.c...</td><td>false</td><td>False</td><td>False</td><td>CA</td><td>1</td><td>2</td><td>0</td></tr>\n",
       "<tr><td>-p-PToD2URA</td><td>2018-02-23</td><td>PAZ Mission</td><td>SpaceX</td><td>Science &amp; Technology</td><td>2018-02-22 14:52:02</td><td>[[none]]</td><td>1422146</td><td>35854</td><td>991</td><td>2240</td><td>https://i.ytimg.c...</td><td>false</td><td>False</td><td>False</td><td>EEUU</td><td>1</td><td>5</td><td>10</td></tr>\n",
       "<tr><td>05hFEtwH05g</td><td>2017-12-11</td><td>Toronto Raptors v...</td><td>Rapid Highlights</td><td>Sports</td><td>2017-12-10 23:00:07</td><td>[basketball, nba,...</td><td>52409</td><td>223</td><td>16</td><td>54</td><td>https://i.ytimg.c...</td><td>false</td><td>False</td><td>False</td><td>CA</td><td>1</td><td>1</td><td>1</td></tr>\n",
       "</table>\n",
       "only showing top 5 rows\n"
      ],
      "text/plain": [
       "+-----------+-------------+--------------------+------------------+--------------------+-------------------+--------------------+-------+-----+--------+-------------+--------------------+-----------------+----------------+----------------------+----+----------------+---------+---------------+\n",
       "|   video_id|trending_date|               title|     channel_title|         category_id|       publish_time|                tags|  views|likes|dislikes|comment_count|      thumbnail_link|comments_disabled|ratings_disabled|video_error_or_removed|pais|dias_hasta_viral|diasemana|dias_viral_pais|\n",
       "+-----------+-------------+--------------------+------------------+--------------------+-------------------+--------------------+-------+-----+--------+-------------+--------------------+-----------------+----------------+----------------------+----+----------------+---------+---------------+\n",
       "|-EjcrM2wFak|   2018-05-14| Comment Awards v132|    Comment Awards|              Comedy|2018-05-13 22:17:12|[comment, awards,...| 157703| 7731|     153|         1697|https://i.ytimg.c...|            false|           False|                 False|  CA|               1|        1|              1|\n",
       "|-Kvh7mHD9aY|   2018-06-12|REDDITS SCARIEST ...|         Mini Ladd|              Gaming|2018-06-11 00:34:16|[mini ladd, minil...| 468306|26899|     223|         4346|https://i.ytimg.c...|            false|           False|                 False|  CA|               1|        2|              0|\n",
       "|-Ru31e1qOUI|   2018-06-12|Kapuso Mo, Jessic...|GMA Public Affairs|       Entertainment|2018-06-11 08:12:39|[gma, gma network...| 613392| 4520|     946|         2324|https://i.ytimg.c...|            false|           False|                 False|  CA|               1|        2|              0|\n",
       "|-p-PToD2URA|   2018-02-23|         PAZ Mission|            SpaceX|Science & Technology|2018-02-22 14:52:02|            [[none]]|1422146|35854|     991|         2240|https://i.ytimg.c...|            false|           False|                 False|EEUU|               1|        5|             10|\n",
       "|05hFEtwH05g|   2017-12-11|Toronto Raptors v...|  Rapid Highlights|              Sports|2017-12-10 23:00:07|[basketball, nba,...|  52409|  223|      16|           54|https://i.ytimg.c...|            false|           False|                 False|  CA|               1|        1|              1|\n",
       "+-----------+-------------+--------------------+------------------+--------------------+-------------------+--------------------+-------+-----+--------+-------------+--------------------+-----------------+----------------+----------------------+----+----------------+---------+---------------+\n",
       "only showing top 5 rows"
      ]
     },
     "execution_count": 14,
     "metadata": {},
     "output_type": "execute_result"
    }
   ],
   "source": [
    "videosDiasViralDF"
   ]
  },
  {
   "cell_type": "code",
   "execution_count": 15,
   "id": "efd527b6",
   "metadata": {},
   "outputs": [
    {
     "data": {
      "text/html": [
       "<table border='1'>\n",
       "<tr><th>category_id</th><th>CA</th><th>EEUU</th><th>GB</th></tr>\n",
       "<tr><td>Shows</td><td>0.1346153846153846</td><td>13.5</td><td>null</td></tr>\n",
       "<tr><td>Education</td><td>0.6864406779661016</td><td>5.864</td><td>12.783783783783784</td></tr>\n",
       "<tr><td>Gaming</td><td>0.7551813471502591</td><td>7.524271844660194</td><td>9.861271676300579</td></tr>\n",
       "<tr><td>Entertainment</td><td>0.6370029097963142</td><td>5.516368128474367</td><td>10.328288707799768</td></tr>\n",
       "<tr><td>Travel &amp; Events</td><td>0.9455445544554455</td><td>5.983333333333333</td><td>9.4</td></tr>\n",
       "</table>\n",
       "only showing top 5 rows\n"
      ],
      "text/plain": [
       "+---------------+------------------+-----------------+------------------+\n",
       "|    category_id|                CA|             EEUU|                GB|\n",
       "+---------------+------------------+-----------------+------------------+\n",
       "|          Shows|0.1346153846153846|             13.5|              null|\n",
       "|      Education|0.6864406779661016|            5.864|12.783783783783784|\n",
       "|         Gaming|0.7551813471502591|7.524271844660194| 9.861271676300579|\n",
       "|  Entertainment|0.6370029097963142|5.516368128474367|10.328288707799768|\n",
       "|Travel & Events|0.9455445544554455|5.983333333333333|               9.4|\n",
       "+---------------+------------------+-----------------+------------------+\n",
       "only showing top 5 rows"
      ]
     },
     "execution_count": 15,
     "metadata": {},
     "output_type": "execute_result"
    }
   ],
   "source": [
    "diasViralCategoriaPaisDF"
   ]
  },
  {
   "cell_type": "code",
   "execution_count": 16,
   "id": "ebfcb115",
   "metadata": {},
   "outputs": [
    {
     "data": {
      "text/html": [
       "<table border='1'>\n",
       "<tr><th>category_id</th><th>Lunes</th><th>Martes</th><th>Miércoles</th><th>Jueves</th><th>Viernes</th><th>Sábado</th><th>Domingo</th></tr>\n",
       "<tr><td>Shows</td><td>1</td><td>19</td><td>17</td><td>19</td><td>24</td><td>19</td><td>7</td></tr>\n",
       "<tr><td>Education</td><td>108</td><td>147</td><td>123</td><td>76</td><td>130</td><td>82</td><td>97</td></tr>\n",
       "<tr><td>Gaming</td><td>167</td><td>130</td><td>108</td><td>128</td><td>138</td><td>139</td><td>156</td></tr>\n",
       "<tr><td>Entertainment</td><td>1054</td><td>1501</td><td>1468</td><td>1467</td><td>1411</td><td>1601</td><td>1229</td></tr>\n",
       "<tr><td>Travel &amp; Events</td><td>60</td><td>26</td><td>21</td><td>46</td><td>22</td><td>29</td><td>43</td></tr>\n",
       "</table>\n",
       "only showing top 5 rows\n"
      ],
      "text/plain": [
       "+---------------+-----+------+---------+------+-------+------+-------+\n",
       "|    category_id|Lunes|Martes|Miércoles|Jueves|Viernes|Sábado|Domingo|\n",
       "+---------------+-----+------+---------+------+-------+------+-------+\n",
       "|          Shows|    1|    19|       17|    19|     24|    19|      7|\n",
       "|      Education|  108|   147|      123|    76|    130|    82|     97|\n",
       "|         Gaming|  167|   130|      108|   128|    138|   139|    156|\n",
       "|  Entertainment| 1054|  1501|     1468|  1467|   1411|  1601|   1229|\n",
       "|Travel & Events|   60|    26|       21|    46|     22|    29|     43|\n",
       "+---------------+-----+------+---------+------+-------+------+-------+\n",
       "only showing top 5 rows"
      ]
     },
     "execution_count": 16,
     "metadata": {},
     "output_type": "execute_result"
    }
   ],
   "source": [
    "videosPorDiasemanaDF"
   ]
  },
  {
   "cell_type": "markdown",
   "id": "169d28a4",
   "metadata": {},
   "source": [
    "### 6. En el dataframe videosDiasViralDF  se cran nuevas columnas para saber la ocurrencia de la subcadena  \"music\" en la columna tags. \n",
    "Creamos una función que me devuelva cuantos elementos del vector en tags, contineen el string 'music'. Cogemos un vector de prueba para ver que funciona\n",
    "Ahora bien tenemos que usar esta función con la UDF, para que nos permita aplicarla a nuestro dataframe. \n",
    "\n",
    "Se crea otra vez la ventana con la agrupación por categoría y país, y finalmente creamos el dataframe la columnas:\n",
    "- ocurrencia_music: saber cuantas veces se repite el string 'music' en los tags\n",
    "- ocurrencia_media: la media de apariciones de 'music' en la ventana de categoría y país\n",
    "- diff_porcentaje: que indica en tanto por ciento, en qué medida el número de apariciones de \"music\" está por encima o por debajo de la media de los vídeos de su misma categoría y país, usamos una fórmula para calcular, "
   ]
  },
  {
   "cell_type": "code",
   "execution_count": 17,
   "id": "d1c6183d",
   "metadata": {},
   "outputs": [
    {
     "name": "stdout",
     "output_type": "stream",
     "text": [
      "2\n"
     ]
    }
   ],
   "source": [
    "subtag_music = [\"a life in music\", \"music for life\", \"bso\", \"hans zimmer\"]\n",
    "\n",
    "def subcadena_en_vector(tags):\n",
    "    return (sum([1 for c in tags if \"music\" in c]))\n",
    "\n",
    "print(subcadena_en_vector(subtag_music))\n",
    "\n",
    "subtag_music_UDF = F.udf(lambda x: subcadena_en_vector(x), IntegerType())\n",
    "\n",
    "ventanaCategoriaPais =  Window.partitionBy(\"category_id\", \"pais\")\n",
    "\n",
    "videosOcurrenciasMusicDF = videosDiasViralDF.withColumn(\"ocurrencias_music\", subtag_music_UDF(F.col(\"tags\"))) \\\n",
    "                                            .withColumn(\"ocurrencia_media\", F.avg(F.col(\"ocurrencias_music\")).over(ventanaCategoriaPais))\\\n",
    "                                            .withColumn(\"diff_porcentaje\", ((F.col(\"ocurrencias_music\") - F.col(\"ocurrencia_media\")) / F.col(\"ocurrencia_media\")) * 100)\n",
    "\n",
    "\n"
   ]
  },
  {
   "cell_type": "code",
   "execution_count": 28,
   "id": "5ad18bdf",
   "metadata": {},
   "outputs": [
    {
     "data": {
      "text/html": [
       "<table border='1'>\n",
       "<tr><th>video_id</th><th>trending_date</th><th>title</th><th>channel_title</th><th>category_id</th><th>publish_time</th><th>tags</th><th>views</th><th>likes</th><th>dislikes</th><th>comment_count</th><th>thumbnail_link</th><th>comments_disabled</th><th>ratings_disabled</th><th>video_error_or_removed</th><th>pais</th><th>dias_hasta_viral</th><th>diasemana</th><th>dias_viral_pais</th><th>ocurrencias_music</th><th>ocurrencia_media</th><th>diff_porcentaje</th></tr>\n",
       "<tr><td>kchxDznl0Jk</td><td>2018-04-16</td><td>All-New KONA | Ex...</td><td>Hyundai Canada</td><td>Autos &amp; Vehicles</td><td>2018-03-27 22:47:29</td><td>[hyundai kona, al...</td><td>52978</td><td>200</td><td>89</td><td>16</td><td>https://i.ytimg.c...</td><td>false</td><td>False</td><td>False</td><td>CA</td><td>20</td><td>3</td><td>0</td><td>0</td><td>0.004032258064516129</td><td>-100.0</td></tr>\n",
       "<tr><td>v58BZsH2oAQ</td><td>2018-03-17</td><td>Shulman&#x27;s BIG Tur...</td><td>Adam LZ</td><td>Autos &amp; Vehicles</td><td>2018-03-16 20:00:03</td><td>[1jz, turbo, big,...</td><td>180903</td><td>7505</td><td>88</td><td>715</td><td>https://i.ytimg.c...</td><td>false</td><td>False</td><td>False</td><td>CA</td><td>1</td><td>6</td><td>0</td><td>0</td><td>0.004032258064516129</td><td>-100.0</td></tr>\n",
       "<tr><td>yido7eBL-GI</td><td>2018-01-28</td><td>Drifting with Cle...</td><td>Adam LZ</td><td>Autos &amp; Vehicles</td><td>2018-01-27 23:32:58</td><td>[adam lz, cleetus...</td><td>166047</td><td>9420</td><td>66</td><td>1367</td><td>https://i.ytimg.c...</td><td>false</td><td>False</td><td>False</td><td>CA</td><td>1</td><td>7</td><td>0</td><td>0</td><td>0.004032258064516129</td><td>-100.0</td></tr>\n",
       "<tr><td>LiHNJKSKCs4</td><td>2018-03-02</td><td>I Fixed My Cheap ...</td><td>Tavarish</td><td>Autos &amp; Vehicles</td><td>2018-03-01 17:00:02</td><td>[aston martin, me...</td><td>322803</td><td>14383</td><td>287</td><td>1894</td><td>https://i.ytimg.c...</td><td>false</td><td>False</td><td>False</td><td>CA</td><td>1</td><td>5</td><td>0</td><td>0</td><td>0.004032258064516129</td><td>-100.0</td></tr>\n",
       "<tr><td>NW-ywwM-q9g</td><td>2017-11-29</td><td>Marty&#x27;s DIY Mira ...</td><td>Mighty Car Mods</td><td>Autos &amp; Vehicles</td><td>2017-11-27 23:47:12</td><td>[mighty, car, mod...</td><td>452773</td><td>15293</td><td>188</td><td>1302</td><td>https://i.ytimg.c...</td><td>false</td><td>False</td><td>False</td><td>CA</td><td>2</td><td>2</td><td>0</td><td>0</td><td>0.004032258064516129</td><td>-100.0</td></tr>\n",
       "</table>\n",
       "only showing top 5 rows\n"
      ],
      "text/plain": [
       "DataFrame[video_id: string, trending_date: date, title: string, channel_title: string, category_id: string, publish_time: timestamp, tags: array<string>, views: string, likes: int, dislikes: int, comment_count: int, thumbnail_link: string, comments_disabled: boolean, ratings_disabled: string, video_error_or_removed: string, pais: string, dias_hasta_viral: int, diasemana: int, dias_viral_pais: int, ocurrencias_music: int, ocurrencia_media: double, diff_porcentaje: double]"
      ]
     },
     "execution_count": 28,
     "metadata": {},
     "output_type": "execute_result"
    }
   ],
   "source": [
    "videosOcurrenciasMusicDF"
   ]
  },
  {
   "cell_type": "code",
   "execution_count": null,
   "id": "92738876",
   "metadata": {},
   "outputs": [],
   "source": []
  }
 ],
 "metadata": {
  "kernelspec": {
   "display_name": "Python 3 (ipykernel)",
   "language": "python",
   "name": "python3"
  },
  "language_info": {
   "codemirror_mode": {
    "name": "ipython",
    "version": 3
   },
   "file_extension": ".py",
   "mimetype": "text/x-python",
   "name": "python",
   "nbconvert_exporter": "python",
   "pygments_lexer": "ipython3",
   "version": "3.9.16"
  }
 },
 "nbformat": 4,
 "nbformat_minor": 5
}
